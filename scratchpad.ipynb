{
 "cells": [
  {
   "cell_type": "code",
   "execution_count": 1,
   "metadata": {},
   "outputs": [],
   "source": [
    "import pandas as pd\n",
    "import os\n",
    "from pathlib import Path\n",
    "from datetime import datetime\n",
    "import numpy as np"
   ]
  },
  {
   "cell_type": "code",
   "execution_count": 2,
   "metadata": {},
   "outputs": [],
   "source": [
    "files = os.listdir('./example_data')"
   ]
  },
  {
   "cell_type": "code",
   "execution_count": 3,
   "metadata": {},
   "outputs": [],
   "source": [
    "folder = Path('./example_data')"
   ]
  },
  {
   "cell_type": "code",
   "execution_count": 30,
   "metadata": {},
   "outputs": [
    {
     "name": "stdout",
     "output_type": "stream",
     "text": [
      "['timestamp', 'temperature', 'humidity', 'pressure', 'pm10_standard', 'pm25_standard', 'pm100_standard', 'pm10_env', 'pm25_env', 'pm100_env', 'particles_03um', 'particles_05um', 'particles_10um', 'particles_25um', 'particles_50um', 'particles_100um']\n"
     ]
    }
   ],
   "source": [
    "with open(folder/files[0]) as file:\n",
    "    header_list = file.readline()\n",
    "\n",
    "header_list = header_list.split(' ')\n",
    "header_list[-1] = header_list[-1][:-1]\n",
    "print(header_list)"
   ]
  },
  {
   "cell_type": "code",
   "execution_count": 31,
   "metadata": {},
   "outputs": [],
   "source": [
    "header_dtypes = [float, float, float, float,\n",
    "                 int, int, int, int,\n",
    "                 int, int, int, int,\n",
    "                 int, int, int, int]"
   ]
  },
  {
   "cell_type": "code",
   "execution_count": 34,
   "metadata": {},
   "outputs": [],
   "source": [
    "header_dict = dict(zip(header_list, header_dtypes))"
   ]
  },
  {
   "cell_type": "code",
   "execution_count": 37,
   "metadata": {},
   "outputs": [],
   "source": [
    "df = pd.read_csv(folder/files[0], delimiter=' ', header=0, index_col=False, na_values='None')"
   ]
  },
  {
   "cell_type": "code",
   "execution_count": 38,
   "metadata": {},
   "outputs": [],
   "source": [
    "df = df.dropna()"
   ]
  },
  {
   "cell_type": "code",
   "execution_count": 39,
   "metadata": {},
   "outputs": [
    {
     "data": {
      "text/html": [
       "<div>\n",
       "<style scoped>\n",
       "    .dataframe tbody tr th:only-of-type {\n",
       "        vertical-align: middle;\n",
       "    }\n",
       "\n",
       "    .dataframe tbody tr th {\n",
       "        vertical-align: top;\n",
       "    }\n",
       "\n",
       "    .dataframe thead th {\n",
       "        text-align: right;\n",
       "    }\n",
       "</style>\n",
       "<table border=\"1\" class=\"dataframe\">\n",
       "  <thead>\n",
       "    <tr style=\"text-align: right;\">\n",
       "      <th></th>\n",
       "      <th>timestamp</th>\n",
       "      <th>temperature</th>\n",
       "      <th>humidity</th>\n",
       "      <th>pressure</th>\n",
       "      <th>pm10_standard</th>\n",
       "      <th>pm25_standard</th>\n",
       "      <th>pm100_standard</th>\n",
       "      <th>pm10_env</th>\n",
       "      <th>pm25_env</th>\n",
       "      <th>pm100_env</th>\n",
       "      <th>particles_03um</th>\n",
       "      <th>particles_05um</th>\n",
       "      <th>particles_10um</th>\n",
       "      <th>particles_25um</th>\n",
       "      <th>particles_50um</th>\n",
       "      <th>particles_100um</th>\n",
       "    </tr>\n",
       "  </thead>\n",
       "  <tbody>\n",
       "    <tr>\n",
       "      <th>0</th>\n",
       "      <td>1.631690e+09</td>\n",
       "      <td>18.556641</td>\n",
       "      <td>59.972400</td>\n",
       "      <td>983.460223</td>\n",
       "      <td>7.0</td>\n",
       "      <td>9.0</td>\n",
       "      <td>9.0</td>\n",
       "      <td>7.0</td>\n",
       "      <td>9.0</td>\n",
       "      <td>9.0</td>\n",
       "      <td>2520.0</td>\n",
       "      <td>388.0</td>\n",
       "      <td>45.0</td>\n",
       "      <td>2.0</td>\n",
       "      <td>0.0</td>\n",
       "      <td>0.0</td>\n",
       "    </tr>\n",
       "    <tr>\n",
       "      <th>1</th>\n",
       "      <td>1.631690e+09</td>\n",
       "      <td>18.556641</td>\n",
       "      <td>59.925254</td>\n",
       "      <td>983.444045</td>\n",
       "      <td>6.0</td>\n",
       "      <td>9.0</td>\n",
       "      <td>9.0</td>\n",
       "      <td>6.0</td>\n",
       "      <td>9.0</td>\n",
       "      <td>9.0</td>\n",
       "      <td>2526.0</td>\n",
       "      <td>374.0</td>\n",
       "      <td>45.0</td>\n",
       "      <td>2.0</td>\n",
       "      <td>0.0</td>\n",
       "      <td>0.0</td>\n",
       "    </tr>\n",
       "    <tr>\n",
       "      <th>2</th>\n",
       "      <td>1.631690e+09</td>\n",
       "      <td>18.551562</td>\n",
       "      <td>60.065809</td>\n",
       "      <td>983.457467</td>\n",
       "      <td>6.0</td>\n",
       "      <td>9.0</td>\n",
       "      <td>9.0</td>\n",
       "      <td>6.0</td>\n",
       "      <td>9.0</td>\n",
       "      <td>9.0</td>\n",
       "      <td>2526.0</td>\n",
       "      <td>374.0</td>\n",
       "      <td>45.0</td>\n",
       "      <td>2.0</td>\n",
       "      <td>0.0</td>\n",
       "      <td>0.0</td>\n",
       "    </tr>\n",
       "    <tr>\n",
       "      <th>3</th>\n",
       "      <td>1.631690e+09</td>\n",
       "      <td>18.551562</td>\n",
       "      <td>59.960229</td>\n",
       "      <td>983.445723</td>\n",
       "      <td>5.0</td>\n",
       "      <td>8.0</td>\n",
       "      <td>8.0</td>\n",
       "      <td>5.0</td>\n",
       "      <td>8.0</td>\n",
       "      <td>8.0</td>\n",
       "      <td>2526.0</td>\n",
       "      <td>374.0</td>\n",
       "      <td>45.0</td>\n",
       "      <td>2.0</td>\n",
       "      <td>0.0</td>\n",
       "      <td>0.0</td>\n",
       "    </tr>\n",
       "    <tr>\n",
       "      <th>4</th>\n",
       "      <td>1.631690e+09</td>\n",
       "      <td>18.541406</td>\n",
       "      <td>59.784037</td>\n",
       "      <td>983.456089</td>\n",
       "      <td>6.0</td>\n",
       "      <td>9.0</td>\n",
       "      <td>9.0</td>\n",
       "      <td>6.0</td>\n",
       "      <td>9.0</td>\n",
       "      <td>9.0</td>\n",
       "      <td>2532.0</td>\n",
       "      <td>393.0</td>\n",
       "      <td>45.0</td>\n",
       "      <td>4.0</td>\n",
       "      <td>0.0</td>\n",
       "      <td>0.0</td>\n",
       "    </tr>\n",
       "    <tr>\n",
       "      <th>...</th>\n",
       "      <td>...</td>\n",
       "      <td>...</td>\n",
       "      <td>...</td>\n",
       "      <td>...</td>\n",
       "      <td>...</td>\n",
       "      <td>...</td>\n",
       "      <td>...</td>\n",
       "      <td>...</td>\n",
       "      <td>...</td>\n",
       "      <td>...</td>\n",
       "      <td>...</td>\n",
       "      <td>...</td>\n",
       "      <td>...</td>\n",
       "      <td>...</td>\n",
       "      <td>...</td>\n",
       "      <td>...</td>\n",
       "    </tr>\n",
       "    <tr>\n",
       "      <th>715</th>\n",
       "      <td>1.631693e+09</td>\n",
       "      <td>18.424609</td>\n",
       "      <td>58.975513</td>\n",
       "      <td>983.462633</td>\n",
       "      <td>5.0</td>\n",
       "      <td>9.0</td>\n",
       "      <td>9.0</td>\n",
       "      <td>5.0</td>\n",
       "      <td>9.0</td>\n",
       "      <td>9.0</td>\n",
       "      <td>1266.0</td>\n",
       "      <td>361.0</td>\n",
       "      <td>69.0</td>\n",
       "      <td>4.0</td>\n",
       "      <td>0.0</td>\n",
       "      <td>0.0</td>\n",
       "    </tr>\n",
       "    <tr>\n",
       "      <th>716</th>\n",
       "      <td>1.631693e+09</td>\n",
       "      <td>18.424609</td>\n",
       "      <td>58.828866</td>\n",
       "      <td>983.466285</td>\n",
       "      <td>5.0</td>\n",
       "      <td>9.0</td>\n",
       "      <td>9.0</td>\n",
       "      <td>5.0</td>\n",
       "      <td>9.0</td>\n",
       "      <td>9.0</td>\n",
       "      <td>1266.0</td>\n",
       "      <td>361.0</td>\n",
       "      <td>69.0</td>\n",
       "      <td>4.0</td>\n",
       "      <td>0.0</td>\n",
       "      <td>0.0</td>\n",
       "    </tr>\n",
       "    <tr>\n",
       "      <th>717</th>\n",
       "      <td>1.631693e+09</td>\n",
       "      <td>18.414453</td>\n",
       "      <td>58.922721</td>\n",
       "      <td>983.478323</td>\n",
       "      <td>5.0</td>\n",
       "      <td>9.0</td>\n",
       "      <td>9.0</td>\n",
       "      <td>5.0</td>\n",
       "      <td>9.0</td>\n",
       "      <td>9.0</td>\n",
       "      <td>1266.0</td>\n",
       "      <td>361.0</td>\n",
       "      <td>69.0</td>\n",
       "      <td>4.0</td>\n",
       "      <td>0.0</td>\n",
       "      <td>0.0</td>\n",
       "    </tr>\n",
       "    <tr>\n",
       "      <th>718</th>\n",
       "      <td>1.631693e+09</td>\n",
       "      <td>18.414453</td>\n",
       "      <td>58.770206</td>\n",
       "      <td>983.467175</td>\n",
       "      <td>6.0</td>\n",
       "      <td>10.0</td>\n",
       "      <td>10.0</td>\n",
       "      <td>6.0</td>\n",
       "      <td>10.0</td>\n",
       "      <td>10.0</td>\n",
       "      <td>1233.0</td>\n",
       "      <td>350.0</td>\n",
       "      <td>62.0</td>\n",
       "      <td>6.0</td>\n",
       "      <td>0.0</td>\n",
       "      <td>0.0</td>\n",
       "    </tr>\n",
       "    <tr>\n",
       "      <th>719</th>\n",
       "      <td>1.631693e+09</td>\n",
       "      <td>18.404297</td>\n",
       "      <td>58.763514</td>\n",
       "      <td>983.480593</td>\n",
       "      <td>6.0</td>\n",
       "      <td>10.0</td>\n",
       "      <td>10.0</td>\n",
       "      <td>6.0</td>\n",
       "      <td>10.0</td>\n",
       "      <td>10.0</td>\n",
       "      <td>1233.0</td>\n",
       "      <td>350.0</td>\n",
       "      <td>62.0</td>\n",
       "      <td>6.0</td>\n",
       "      <td>0.0</td>\n",
       "      <td>0.0</td>\n",
       "    </tr>\n",
       "  </tbody>\n",
       "</table>\n",
       "<p>717 rows × 16 columns</p>\n",
       "</div>"
      ],
      "text/plain": [
       "        timestamp  temperature   humidity    pressure  pm10_standard  \\\n",
       "0    1.631690e+09    18.556641  59.972400  983.460223            7.0   \n",
       "1    1.631690e+09    18.556641  59.925254  983.444045            6.0   \n",
       "2    1.631690e+09    18.551562  60.065809  983.457467            6.0   \n",
       "3    1.631690e+09    18.551562  59.960229  983.445723            5.0   \n",
       "4    1.631690e+09    18.541406  59.784037  983.456089            6.0   \n",
       "..            ...          ...        ...         ...            ...   \n",
       "715  1.631693e+09    18.424609  58.975513  983.462633            5.0   \n",
       "716  1.631693e+09    18.424609  58.828866  983.466285            5.0   \n",
       "717  1.631693e+09    18.414453  58.922721  983.478323            5.0   \n",
       "718  1.631693e+09    18.414453  58.770206  983.467175            6.0   \n",
       "719  1.631693e+09    18.404297  58.763514  983.480593            6.0   \n",
       "\n",
       "     pm25_standard  pm100_standard  pm10_env  pm25_env  pm100_env  \\\n",
       "0              9.0             9.0       7.0       9.0        9.0   \n",
       "1              9.0             9.0       6.0       9.0        9.0   \n",
       "2              9.0             9.0       6.0       9.0        9.0   \n",
       "3              8.0             8.0       5.0       8.0        8.0   \n",
       "4              9.0             9.0       6.0       9.0        9.0   \n",
       "..             ...             ...       ...       ...        ...   \n",
       "715            9.0             9.0       5.0       9.0        9.0   \n",
       "716            9.0             9.0       5.0       9.0        9.0   \n",
       "717            9.0             9.0       5.0       9.0        9.0   \n",
       "718           10.0            10.0       6.0      10.0       10.0   \n",
       "719           10.0            10.0       6.0      10.0       10.0   \n",
       "\n",
       "     particles_03um  particles_05um  particles_10um  particles_25um  \\\n",
       "0            2520.0           388.0            45.0             2.0   \n",
       "1            2526.0           374.0            45.0             2.0   \n",
       "2            2526.0           374.0            45.0             2.0   \n",
       "3            2526.0           374.0            45.0             2.0   \n",
       "4            2532.0           393.0            45.0             4.0   \n",
       "..              ...             ...             ...             ...   \n",
       "715          1266.0           361.0            69.0             4.0   \n",
       "716          1266.0           361.0            69.0             4.0   \n",
       "717          1266.0           361.0            69.0             4.0   \n",
       "718          1233.0           350.0            62.0             6.0   \n",
       "719          1233.0           350.0            62.0             6.0   \n",
       "\n",
       "     particles_50um  particles_100um  \n",
       "0               0.0              0.0  \n",
       "1               0.0              0.0  \n",
       "2               0.0              0.0  \n",
       "3               0.0              0.0  \n",
       "4               0.0              0.0  \n",
       "..              ...              ...  \n",
       "715             0.0              0.0  \n",
       "716             0.0              0.0  \n",
       "717             0.0              0.0  \n",
       "718             0.0              0.0  \n",
       "719             0.0              0.0  \n",
       "\n",
       "[717 rows x 16 columns]"
      ]
     },
     "execution_count": 39,
     "metadata": {},
     "output_type": "execute_result"
    }
   ],
   "source": [
    "df"
   ]
  },
  {
   "cell_type": "code",
   "execution_count": 45,
   "metadata": {},
   "outputs": [
    {
     "name": "stdout",
     "output_type": "stream",
     "text": [
      "<class 'pandas.core.frame.DataFrame'>\n",
      "Int64Index: 717 entries, 0 to 719\n",
      "Data columns (total 16 columns):\n",
      "timestamp          717 non-null float64\n",
      "temperature        717 non-null float64\n",
      "humidity           717 non-null float64\n",
      "pressure           717 non-null float64\n",
      "pm10_standard      717 non-null float64\n",
      "pm25_standard      717 non-null float64\n",
      "pm100_standard     717 non-null float64\n",
      "pm10_env           717 non-null float64\n",
      "pm25_env           717 non-null float64\n",
      "pm100_env          717 non-null float64\n",
      "particles_03um     717 non-null float64\n",
      "particles_05um     717 non-null float64\n",
      "particles_10um     717 non-null float64\n",
      "particles_25um     717 non-null float64\n",
      "particles_50um     717 non-null float64\n",
      "particles_100um    717 non-null float64\n",
      "dtypes: float64(16)\n",
      "memory usage: 95.2 KB\n"
     ]
    }
   ],
   "source": [
    "df.info()"
   ]
  },
  {
   "cell_type": "code",
   "execution_count": 49,
   "metadata": {},
   "outputs": [],
   "source": [
    "import matplotlib.pyplot as plt\n",
    "%matplotlib inline"
   ]
  },
  {
   "cell_type": "code",
   "execution_count": 50,
   "metadata": {},
   "outputs": [
    {
     "data": {
      "text/plain": [
       "[<matplotlib.lines.Line2D at 0x2d17c879648>]"
      ]
     },
     "execution_count": 50,
     "metadata": {},
     "output_type": "execute_result"
    },
    {
     "data": {
      "image/png": "[encoded data removed]",
      "text/plain": [
       "<Figure size 432x288 with 1 Axes>"
      ]
     },
     "metadata": {
      "needs_background": "light"
     },
     "output_type": "display_data"
    }
   ],
   "source": [
    "plt.plot(df['timestamp'], df['temperature'])"
   ]
  },
  {
   "cell_type": "code",
   "execution_count": 53,
   "metadata": {},
   "outputs": [],
   "source": [
    "dt_utc = pd.to_datetime(df['timestamp'], unit='s', utc=True)"
   ]
  },
  {
   "cell_type": "code",
   "execution_count": 56,
   "metadata": {},
   "outputs": [],
   "source": [
    "dt = dt_utc.dt.tz_convert('America/Los_Angeles')"
   ]
  },
  {
   "cell_type": "code",
   "execution_count": 57,
   "metadata": {},
   "outputs": [
    {
     "data": {
      "text/plain": [
       "0     2021-09-15 00:08:36.312413454-07:00\n",
       "1     2021-09-15 00:08:41.465367794-07:00\n",
       "2     2021-09-15 00:08:46.620023489-07:00\n",
       "3     2021-09-15 00:08:51.774501801-07:00\n",
       "4     2021-09-15 00:08:56.931112528-07:00\n",
       "                      ...                \n",
       "715   2021-09-15 01:10:01.793066978-07:00\n",
       "716   2021-09-15 01:10:06.947284222-07:00\n",
       "717   2021-09-15 01:10:12.098280668-07:00\n",
       "718   2021-09-15 01:10:17.252898455-07:00\n",
       "719   2021-09-15 01:10:22.407492638-07:00\n",
       "Name: timestamp, Length: 717, dtype: datetime64[ns, America/Los_Angeles]"
      ]
     },
     "execution_count": 57,
     "metadata": {},
     "output_type": "execute_result"
    }
   ],
   "source": [
    "dt"
   ]
  },
  {
   "cell_type": "code",
   "execution_count": 58,
   "metadata": {},
   "outputs": [],
   "source": [
    "df['timestamp'] = dt"
   ]
  },
  {
   "cell_type": "code",
   "execution_count": 59,
   "metadata": {},
   "outputs": [
    {
     "data": {
      "text/html": [
       "<div>\n",
       "<style scoped>\n",
       "    .dataframe tbody tr th:only-of-type {\n",
       "        vertical-align: middle;\n",
       "    }\n",
       "\n",
       "    .dataframe tbody tr th {\n",
       "        vertical-align: top;\n",
       "    }\n",
       "\n",
       "    .dataframe thead th {\n",
       "        text-align: right;\n",
       "    }\n",
       "</style>\n",
       "<table border=\"1\" class=\"dataframe\">\n",
       "  <thead>\n",
       "    <tr style=\"text-align: right;\">\n",
       "      <th></th>\n",
       "      <th>timestamp</th>\n",
       "      <th>temperature</th>\n",
       "      <th>humidity</th>\n",
       "      <th>pressure</th>\n",
       "      <th>pm10_standard</th>\n",
       "      <th>pm25_standard</th>\n",
       "      <th>pm100_standard</th>\n",
       "      <th>pm10_env</th>\n",
       "      <th>pm25_env</th>\n",
       "      <th>pm100_env</th>\n",
       "      <th>particles_03um</th>\n",
       "      <th>particles_05um</th>\n",
       "      <th>particles_10um</th>\n",
       "      <th>particles_25um</th>\n",
       "      <th>particles_50um</th>\n",
       "      <th>particles_100um</th>\n",
       "    </tr>\n",
       "  </thead>\n",
       "  <tbody>\n",
       "    <tr>\n",
       "      <th>0</th>\n",
       "      <td>2021-09-15 00:08:36.312413454-07:00</td>\n",
       "      <td>18.556641</td>\n",
       "      <td>59.972400</td>\n",
       "      <td>983.460223</td>\n",
       "      <td>7.0</td>\n",
       "      <td>9.0</td>\n",
       "      <td>9.0</td>\n",
       "      <td>7.0</td>\n",
       "      <td>9.0</td>\n",
       "      <td>9.0</td>\n",
       "      <td>2520.0</td>\n",
       "      <td>388.0</td>\n",
       "      <td>45.0</td>\n",
       "      <td>2.0</td>\n",
       "      <td>0.0</td>\n",
       "      <td>0.0</td>\n",
       "    </tr>\n",
       "    <tr>\n",
       "      <th>1</th>\n",
       "      <td>2021-09-15 00:08:41.465367794-07:00</td>\n",
       "      <td>18.556641</td>\n",
       "      <td>59.925254</td>\n",
       "      <td>983.444045</td>\n",
       "      <td>6.0</td>\n",
       "      <td>9.0</td>\n",
       "      <td>9.0</td>\n",
       "      <td>6.0</td>\n",
       "      <td>9.0</td>\n",
       "      <td>9.0</td>\n",
       "      <td>2526.0</td>\n",
       "      <td>374.0</td>\n",
       "      <td>45.0</td>\n",
       "      <td>2.0</td>\n",
       "      <td>0.0</td>\n",
       "      <td>0.0</td>\n",
       "    </tr>\n",
       "    <tr>\n",
       "      <th>2</th>\n",
       "      <td>2021-09-15 00:08:46.620023489-07:00</td>\n",
       "      <td>18.551562</td>\n",
       "      <td>60.065809</td>\n",
       "      <td>983.457467</td>\n",
       "      <td>6.0</td>\n",
       "      <td>9.0</td>\n",
       "      <td>9.0</td>\n",
       "      <td>6.0</td>\n",
       "      <td>9.0</td>\n",
       "      <td>9.0</td>\n",
       "      <td>2526.0</td>\n",
       "      <td>374.0</td>\n",
       "      <td>45.0</td>\n",
       "      <td>2.0</td>\n",
       "      <td>0.0</td>\n",
       "      <td>0.0</td>\n",
       "    </tr>\n",
       "    <tr>\n",
       "      <th>3</th>\n",
       "      <td>2021-09-15 00:08:51.774501801-07:00</td>\n",
       "      <td>18.551562</td>\n",
       "      <td>59.960229</td>\n",
       "      <td>983.445723</td>\n",
       "      <td>5.0</td>\n",
       "      <td>8.0</td>\n",
       "      <td>8.0</td>\n",
       "      <td>5.0</td>\n",
       "      <td>8.0</td>\n",
       "      <td>8.0</td>\n",
       "      <td>2526.0</td>\n",
       "      <td>374.0</td>\n",
       "      <td>45.0</td>\n",
       "      <td>2.0</td>\n",
       "      <td>0.0</td>\n",
       "      <td>0.0</td>\n",
       "    </tr>\n",
       "    <tr>\n",
       "      <th>4</th>\n",
       "      <td>2021-09-15 00:08:56.931112528-07:00</td>\n",
       "      <td>18.541406</td>\n",
       "      <td>59.784037</td>\n",
       "      <td>983.456089</td>\n",
       "      <td>6.0</td>\n",
       "      <td>9.0</td>\n",
       "      <td>9.0</td>\n",
       "      <td>6.0</td>\n",
       "      <td>9.0</td>\n",
       "      <td>9.0</td>\n",
       "      <td>2532.0</td>\n",
       "      <td>393.0</td>\n",
       "      <td>45.0</td>\n",
       "      <td>4.0</td>\n",
       "      <td>0.0</td>\n",
       "      <td>0.0</td>\n",
       "    </tr>\n",
       "    <tr>\n",
       "      <th>...</th>\n",
       "      <td>...</td>\n",
       "      <td>...</td>\n",
       "      <td>...</td>\n",
       "      <td>...</td>\n",
       "      <td>...</td>\n",
       "      <td>...</td>\n",
       "      <td>...</td>\n",
       "      <td>...</td>\n",
       "      <td>...</td>\n",
       "      <td>...</td>\n",
       "      <td>...</td>\n",
       "      <td>...</td>\n",
       "      <td>...</td>\n",
       "      <td>...</td>\n",
       "      <td>...</td>\n",
       "      <td>...</td>\n",
       "    </tr>\n",
       "    <tr>\n",
       "      <th>715</th>\n",
       "      <td>2021-09-15 01:10:01.793066978-07:00</td>\n",
       "      <td>18.424609</td>\n",
       "      <td>58.975513</td>\n",
       "      <td>983.462633</td>\n",
       "      <td>5.0</td>\n",
       "      <td>9.0</td>\n",
       "      <td>9.0</td>\n",
       "      <td>5.0</td>\n",
       "      <td>9.0</td>\n",
       "      <td>9.0</td>\n",
       "      <td>1266.0</td>\n",
       "      <td>361.0</td>\n",
       "      <td>69.0</td>\n",
       "      <td>4.0</td>\n",
       "      <td>0.0</td>\n",
       "      <td>0.0</td>\n",
       "    </tr>\n",
       "    <tr>\n",
       "      <th>716</th>\n",
       "      <td>2021-09-15 01:10:06.947284222-07:00</td>\n",
       "      <td>18.424609</td>\n",
       "      <td>58.828866</td>\n",
       "      <td>983.466285</td>\n",
       "      <td>5.0</td>\n",
       "      <td>9.0</td>\n",
       "      <td>9.0</td>\n",
       "      <td>5.0</td>\n",
       "      <td>9.0</td>\n",
       "      <td>9.0</td>\n",
       "      <td>1266.0</td>\n",
       "      <td>361.0</td>\n",
       "      <td>69.0</td>\n",
       "      <td>4.0</td>\n",
       "      <td>0.0</td>\n",
       "      <td>0.0</td>\n",
       "    </tr>\n",
       "    <tr>\n",
       "      <th>717</th>\n",
       "      <td>2021-09-15 01:10:12.098280668-07:00</td>\n",
       "      <td>18.414453</td>\n",
       "      <td>58.922721</td>\n",
       "      <td>983.478323</td>\n",
       "      <td>5.0</td>\n",
       "      <td>9.0</td>\n",
       "      <td>9.0</td>\n",
       "      <td>5.0</td>\n",
       "      <td>9.0</td>\n",
       "      <td>9.0</td>\n",
       "      <td>1266.0</td>\n",
       "      <td>361.0</td>\n",
       "      <td>69.0</td>\n",
       "      <td>4.0</td>\n",
       "      <td>0.0</td>\n",
       "      <td>0.0</td>\n",
       "    </tr>\n",
       "    <tr>\n",
       "      <th>718</th>\n",
       "      <td>2021-09-15 01:10:17.252898455-07:00</td>\n",
       "      <td>18.414453</td>\n",
       "      <td>58.770206</td>\n",
       "      <td>983.467175</td>\n",
       "      <td>6.0</td>\n",
       "      <td>10.0</td>\n",
       "      <td>10.0</td>\n",
       "      <td>6.0</td>\n",
       "      <td>10.0</td>\n",
       "      <td>10.0</td>\n",
       "      <td>1233.0</td>\n",
       "      <td>350.0</td>\n",
       "      <td>62.0</td>\n",
       "      <td>6.0</td>\n",
       "      <td>0.0</td>\n",
       "      <td>0.0</td>\n",
       "    </tr>\n",
       "    <tr>\n",
       "      <th>719</th>\n",
       "      <td>2021-09-15 01:10:22.407492638-07:00</td>\n",
       "      <td>18.404297</td>\n",
       "      <td>58.763514</td>\n",
       "      <td>983.480593</td>\n",
       "      <td>6.0</td>\n",
       "      <td>10.0</td>\n",
       "      <td>10.0</td>\n",
       "      <td>6.0</td>\n",
       "      <td>10.0</td>\n",
       "      <td>10.0</td>\n",
       "      <td>1233.0</td>\n",
       "      <td>350.0</td>\n",
       "      <td>62.0</td>\n",
       "      <td>6.0</td>\n",
       "      <td>0.0</td>\n",
       "      <td>0.0</td>\n",
       "    </tr>\n",
       "  </tbody>\n",
       "</table>\n",
       "<p>717 rows × 16 columns</p>\n",
       "</div>"
      ],
      "text/plain": [
       "                              timestamp  temperature   humidity    pressure  \\\n",
       "0   2021-09-15 00:08:36.312413454-07:00    18.556641  59.972400  983.460223   \n",
       "1   2021-09-15 00:08:41.465367794-07:00    18.556641  59.925254  983.444045   \n",
       "2   2021-09-15 00:08:46.620023489-07:00    18.551562  60.065809  983.457467   \n",
       "3   2021-09-15 00:08:51.774501801-07:00    18.551562  59.960229  983.445723   \n",
       "4   2021-09-15 00:08:56.931112528-07:00    18.541406  59.784037  983.456089   \n",
       "..                                  ...          ...        ...         ...   \n",
       "715 2021-09-15 01:10:01.793066978-07:00    18.424609  58.975513  983.462633   \n",
       "716 2021-09-15 01:10:06.947284222-07:00    18.424609  58.828866  983.466285   \n",
       "717 2021-09-15 01:10:12.098280668-07:00    18.414453  58.922721  983.478323   \n",
       "718 2021-09-15 01:10:17.252898455-07:00    18.414453  58.770206  983.467175   \n",
       "719 2021-09-15 01:10:22.407492638-07:00    18.404297  58.763514  983.480593   \n",
       "\n",
       "     pm10_standard  pm25_standard  pm100_standard  pm10_env  pm25_env  \\\n",
       "0              7.0            9.0             9.0       7.0       9.0   \n",
       "1              6.0            9.0             9.0       6.0       9.0   \n",
       "2              6.0            9.0             9.0       6.0       9.0   \n",
       "3              5.0            8.0             8.0       5.0       8.0   \n",
       "4              6.0            9.0             9.0       6.0       9.0   \n",
       "..             ...            ...             ...       ...       ...   \n",
       "715            5.0            9.0             9.0       5.0       9.0   \n",
       "716            5.0            9.0             9.0       5.0       9.0   \n",
       "717            5.0            9.0             9.0       5.0       9.0   \n",
       "718            6.0           10.0            10.0       6.0      10.0   \n",
       "719            6.0           10.0            10.0       6.0      10.0   \n",
       "\n",
       "     pm100_env  particles_03um  particles_05um  particles_10um  \\\n",
       "0          9.0          2520.0           388.0            45.0   \n",
       "1          9.0          2526.0           374.0            45.0   \n",
       "2          9.0          2526.0           374.0            45.0   \n",
       "3          8.0          2526.0           374.0            45.0   \n",
       "4          9.0          2532.0           393.0            45.0   \n",
       "..         ...             ...             ...             ...   \n",
       "715        9.0          1266.0           361.0            69.0   \n",
       "716        9.0          1266.0           361.0            69.0   \n",
       "717        9.0          1266.0           361.0            69.0   \n",
       "718       10.0          1233.0           350.0            62.0   \n",
       "719       10.0          1233.0           350.0            62.0   \n",
       "\n",
       "     particles_25um  particles_50um  particles_100um  \n",
       "0               2.0             0.0              0.0  \n",
       "1               2.0             0.0              0.0  \n",
       "2               2.0             0.0              0.0  \n",
       "3               2.0             0.0              0.0  \n",
       "4               4.0             0.0              0.0  \n",
       "..              ...             ...              ...  \n",
       "715             4.0             0.0              0.0  \n",
       "716             4.0             0.0              0.0  \n",
       "717             4.0             0.0              0.0  \n",
       "718             6.0             0.0              0.0  \n",
       "719             6.0             0.0              0.0  \n",
       "\n",
       "[717 rows x 16 columns]"
      ]
     },
     "execution_count": 59,
     "metadata": {},
     "output_type": "execute_result"
    }
   ],
   "source": [
    "df"
   ]
  },
  {
   "cell_type": "code",
   "execution_count": 61,
   "metadata": {},
   "outputs": [
    {
     "name": "stdout",
     "output_type": "stream",
     "text": [
      "<class 'pandas.core.frame.DataFrame'>\n",
      "Int64Index: 717 entries, 0 to 719\n",
      "Data columns (total 16 columns):\n",
      "timestamp          717 non-null datetime64[ns, America/Los_Angeles]\n",
      "temperature        717 non-null float64\n",
      "humidity           717 non-null float64\n",
      "pressure           717 non-null float64\n",
      "pm10_standard      717 non-null float64\n",
      "pm25_standard      717 non-null float64\n",
      "pm100_standard     717 non-null float64\n",
      "pm10_env           717 non-null float64\n",
      "pm25_env           717 non-null float64\n",
      "pm100_env          717 non-null float64\n",
      "particles_03um     717 non-null float64\n",
      "particles_05um     717 non-null float64\n",
      "particles_10um     717 non-null float64\n",
      "particles_25um     717 non-null float64\n",
      "particles_50um     717 non-null float64\n",
      "particles_100um    717 non-null float64\n",
      "dtypes: datetime64[ns, America/Los_Angeles](1), float64(15)\n",
      "memory usage: 115.2 KB\n"
     ]
    }
   ],
   "source": [
    "df.info()"
   ]
  },
  {
   "cell_type": "code",
   "execution_count": 62,
   "metadata": {},
   "outputs": [
    {
     "data": {
      "text/plain": [
       "[<matplotlib.lines.Line2D at 0x2d103d8dc08>]"
      ]
     },
     "execution_count": 62,
     "metadata": {},
     "output_type": "execute_result"
    },
    {
     "data": {
      "image/png": "[encoded data removed]",
      "text/plain": [
       "<Figure size 432x288 with 1 Axes>"
      ]
     },
     "metadata": {
      "needs_background": "light"
     },
     "output_type": "display_data"
    }
   ],
   "source": [
    "plt.plot(df['timestamp'], df['temperature'])"
   ]
  },
  {
   "cell_type": "code",
   "execution_count": 80,
   "metadata": {},
   "outputs": [
    {
     "data": {
      "text/plain": [
       "{'whiskers': [<matplotlib.lines.Line2D at 0x2d1088eb908>,\n",
       "  <matplotlib.lines.Line2D at 0x2d1088eb7c8>,\n",
       "  <matplotlib.lines.Line2D at 0x2d1088b92c8>,\n",
       "  <matplotlib.lines.Line2D at 0x2d1088fc788>,\n",
       "  <matplotlib.lines.Line2D at 0x2d10890e4c8>,\n",
       "  <matplotlib.lines.Line2D at 0x2d108916c48>],\n",
       " 'caps': [<matplotlib.lines.Line2D at 0x2d1088ebd88>,\n",
       "  <matplotlib.lines.Line2D at 0x2d1088ebb48>,\n",
       "  <matplotlib.lines.Line2D at 0x2d1088ebac8>,\n",
       "  <matplotlib.lines.Line2D at 0x2d1088fc908>,\n",
       "  <matplotlib.lines.Line2D at 0x2d1088fc708>,\n",
       "  <matplotlib.lines.Line2D at 0x2d10891e648>],\n",
       " 'boxes': [<matplotlib.lines.Line2D at 0x2d1088eb288>,\n",
       "  <matplotlib.lines.Line2D at 0x2d1088fc248>,\n",
       "  <matplotlib.lines.Line2D at 0x2d10890ecc8>],\n",
       " 'medians': [<matplotlib.lines.Line2D at 0x2d1088eb708>,\n",
       "  <matplotlib.lines.Line2D at 0x2d1088fcd88>,\n",
       "  <matplotlib.lines.Line2D at 0x2d108916408>],\n",
       " 'fliers': [<matplotlib.lines.Line2D at 0x2d1088f1848>,\n",
       "  <matplotlib.lines.Line2D at 0x2d107761908>,\n",
       "  <matplotlib.lines.Line2D at 0x2d1088c4a48>],\n",
       " 'means': [<matplotlib.lines.Line2D at 0x2d1088c4388>,\n",
       "  <matplotlib.lines.Line2D at 0x2d108904248>,\n",
       "  <matplotlib.lines.Line2D at 0x2d10890ef88>]}"
      ]
     },
     "execution_count": 80,
     "metadata": {},
     "output_type": "execute_result"
    },
    {
     "data": {
      "image/png": "[encoded data removed]",
      "text/plain": [
       "<Figure size 432x288 with 1 Axes>"
      ]
     },
     "metadata": {
      "needs_background": "light"
     },
     "output_type": "display_data"
    }
   ],
   "source": [
    "plt.boxplot(df.iloc[:, 7:10], labels=['1.0', '2.5', '10.0'], meanline=True, showmeans=True)"
   ]
  },
  {
   "cell_type": "code",
   "execution_count": 76,
   "metadata": {},
   "outputs": [
    {
     "data": {
      "image/png": "[encoded data removed]",
      "text/plain": [
       "<Figure size 432x288 with 1 Axes>"
      ]
     },
     "metadata": {
      "needs_background": "light"
     },
     "output_type": "display_data"
    }
   ],
   "source": [
    "plt.bar(['0.3', '0.5', '1.0', '2.5', '5.0', '10.0'], height=df.iloc[:, 10:].mean(axis=0))\n",
    "plt.yscale('log')"
   ]
  },
  {
   "cell_type": "code",
   "execution_count": 77,
   "metadata": {},
   "outputs": [
    {
     "data": {
      "text/plain": [
       "0.13668061366806136"
      ]
     },
     "execution_count": 77,
     "metadata": {},
     "output_type": "execute_result"
    }
   ],
   "source": [
    "df.iloc[:, -1].mean()"
   ]
  },
  {
   "cell_type": "code",
   "execution_count": null,
   "metadata": {},
   "outputs": [],
   "source": []
  }
 ],
 "metadata": {
  "kernelspec": {
   "display_name": "Python 3",
   "language": "python",
   "name": "python3"
  },
  "language_info": {
   "codemirror_mode": {
    "name": "ipython",
    "version": 3
   },
   "file_extension": ".py",
   "mimetype": "text/x-python",
   "name": "python",
   "nbconvert_exporter": "python",
   "pygments_lexer": "ipython3",
   "version": "3.7.4"
  }
 },
 "nbformat": 4,
 "nbformat_minor": 4
}
